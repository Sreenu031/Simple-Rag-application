{
 "cells": [
  {
   "cell_type": "code",
   "execution_count": null,
   "metadata": {},
   "outputs": [],
   "source": [
    "!pip install  langchain langchain-community\n"
   ]
  },
  {
   "cell_type": "code",
   "execution_count": 1,
   "metadata": {},
   "outputs": [
    {
     "name": "stdout",
     "output_type": "stream",
     "text": [
      "Sure, here's one:\n",
      "\n",
      "Why don't scientists trust atoms?\n",
      "Because they make up everything!\n"
     ]
    }
   ],
   "source": [
    "from langchain_community.llms import Ollama\n",
    "from langchain_community.embeddings import OllamaEmbeddings\n",
    "model = Ollama(model=\"llama2\")\n",
    "embeddings= OllamaEmbeddings()\n",
    "\n",
    "response = model.invoke(\"Tell me a joke\")\n",
    "\n",
    "print(response)"
   ]
  },
  {
   "cell_type": "code",
   "execution_count": 2,
   "metadata": {},
   "outputs": [
    {
     "name": "stdout",
     "output_type": "stream",
     "text": [
      "\n",
      "Sure! Here's another one:\n",
      "\n",
      "Why don't scientists trust atoms?\n",
      "Because they make up everything!\n",
      "\n",
      "I hope that brings a smile to your face!\n"
     ]
    }
   ],
   "source": [
    "from langchain_core.output_parsers import StrOutputParser\n",
    "\n",
    "parser= StrOutputParser()\n",
    "\n",
    "chain = model | parser\n",
    "\n",
    "response =chain.invoke(\"tell me another joke\")\n",
    "print(response)"
   ]
  },
  {
   "cell_type": "code",
   "execution_count": null,
   "metadata": {},
   "outputs": [],
   "source": [
    "!pip install pypdf"
   ]
  },
  {
   "cell_type": "code",
   "execution_count": 3,
   "metadata": {},
   "outputs": [
    {
     "data": {
      "text/plain": [
       "[Document(metadata={'source': 'data.pdf', 'page': 0}, page_content='Case Study: Web Jacking \\n1. Executive Summary \\nThis case study explores how In 2015, the website of Domino\\'s Pizza India was hacked, \\nand sensitive customer information was stolen, causing reputational and financial loss. \\n2. Details about the attack. \\n• Data related to over 18 Cr orders from pizza chain Domino’s India appeared on the dark \\nweb. \\n• 13TB of employee files & customer details, which allegedly belongs to @dominos_india \\nhave been leaked on the Dark Web through a search portal that gives access to sensitive \\ninfo of the users. \\n• The database includes personal details of the customers provided to Domino’s India when \\nthey placed an order through its website or app. These include names, phone numbers, \\nemail IDs, addresses and payment card details \\n• The database was being sold on the dark web for around two to eight bitcoins, with a 50 \\nbitcoin ransom for the company to block the sale of its data. \\n• the data stolen from Domino’s India’s database is from the period between 2015-21 \\n• The company did not respond to questions about the severity of the customer location and \\nphone numbers data being leaked. \\nWeb Jacking: \\nWeb Jacking is a cyber-attack where attackers create a fake version of a legitimate website to \\ntrick users into entering their credentials or sensitive information. \\n \\nMethods used in Web Jacking: \\n• Domain Spoofing – Attackers register similar domain names to mislead users (e.g., \\n\"g00gle.com\" instead of \"google.com\"). \\n• Cross-Site Scripting (XSS) – Injecting malicious scripts into a trusted website. \\n• DNS Hijacking – Manipulating DNS records to redirect traffic to a malicious website. \\n• Phishing & Social Engineering – Fake login pages that steal user credentials. \\nCountermeasures for Website Security: \\nUse HTTPS & SSL Certificates – Encrypt communications to prevent data interception.  \\nEnable DNS Security Extensions (DNSSEC) – Prevent DNS hijacking.  \\nRegularly Monitor & Audit Websites – Detect unauthorized changes early.  \\nImplement Multi-Factor Authentication (MFA) – Reduce the risk of stolen credentials. \\nEducate Users on Phishing Risks – Prevent social engineering attacks.'),\n",
       " Document(metadata={'source': 'data.pdf', 'page': 1}, page_content=\"Case Study: Password Sniffing on a Public Wi-Fi Network \\n1. Incident Overview \\nA group of attackers used a password-sniffing tool on a public Wi-Fi network to intercept \\nusers' login credentials. The attack exploited unencrypted communications, allowing hackers \\nto capture usernames and passwords in real time. Victims included online banking users, \\nsocial media account holders, and employees accessing corporate emails. \\n2. Risks of Using Unsecured Networks \\n• Man-in-the-Middle (MITM) Attacks – Attackers intercept data between users and \\nwebsites. \\n• Session Hijacking – Unauthorized access to user sessions after login. \\n• Packet Sniffing – Tools like Wireshark capture unencrypted data packets. \\n• Data Theft & Credential Leaks – Sensitive information is stolen and misused. \\n \\n3. Countermeasures for Website Security \\n• Use HTTPS Websites – Encrypts data, preventing sniffing. \\n• Enable VPN – Encrypts internet traffic on public networks. \\n• Use Multi-Factor Authentication (MFA) – Adds an extra layer of security. \\n• Avoid Public Wi-Fi for Sensitive Transactions – Use mobile data instead. \\n• Use Strong, Unique Passwords – Prevents attackers from reusing stolen credentials. \\n• Monitor Login Activity – Detect unauthorized access attempts.\")]"
      ]
     },
     "execution_count": 3,
     "metadata": {},
     "output_type": "execute_result"
    }
   ],
   "source": [
    "from langchain_community.document_loaders import PyPDFLoader\n",
    "\n",
    "loader = PyPDFLoader(\"data.pdf\")\n",
    "\n",
    "pages = loader.load_and_split()\n",
    "\n",
    "pages"
   ]
  },
  {
   "cell_type": "code",
   "execution_count": 4,
   "metadata": {},
   "outputs": [
    {
     "name": "stdout",
     "output_type": "stream",
     "text": [
      " \n",
      "Answer the question based on the context below.  \n",
      "If you can't answer the question, reply \"I don't Know\".\n",
      "\n",
      "Context: here is some context\n",
      "Question: here is a question\n",
      "\n"
     ]
    }
   ],
   "source": [
    "from langchain.prompts import PromptTemplate\n",
    "\n",
    "template = \"\"\" \n",
    "Answer the question based on the context below.  \n",
    "If you can't answer the question, reply \"I don't Know\".\n",
    "\n",
    "Context: {context}\n",
    "Question: {question}\n",
    "\"\"\"\n",
    "\n",
    "# Create a prompt template\n",
    "prompt = PromptTemplate.from_template(template)\n",
    "\n",
    "# Corrected variable names and syntax\n",
    "print(prompt.format(context=\"here is some context\", question=\"here is a question\"))\n"
   ]
  },
  {
   "cell_type": "code",
   "execution_count": 5,
   "metadata": {},
   "outputs": [
    {
     "data": {
      "text/plain": [
       "\" Sure, I'd be happy to help! Based on the context you provided, your name is Srinu.\""
      ]
     },
     "execution_count": 5,
     "metadata": {},
     "output_type": "execute_result"
    }
   ],
   "source": [
    "\n",
    "chain = prompt | model | parser\n",
    "\n",
    "chain.invoke(\n",
    "    {\n",
    "        \"context\":\"the name i was given is srinu\",\n",
    "        \"question\":\"what is my name\"\n",
    "    }\n",
    "    \n",
    ")"
   ]
  },
  {
   "cell_type": "code",
   "execution_count": 21,
   "metadata": {},
   "outputs": [
    {
     "name": "stdout",
     "output_type": "stream",
     "text": [
      "Collecting docarray\n",
      "  Downloading docarray-0.40.0-py3-none-any.whl.metadata (36 kB)\n",
      "Requirement already satisfied: numpy>=1.17.3 in c:\\users\\medis\\appdata\\local\\programs\\python\\python311\\lib\\site-packages (from docarray) (1.26.4)\n",
      "Requirement already satisfied: orjson>=3.8.2 in c:\\users\\medis\\appdata\\local\\programs\\python\\python311\\lib\\site-packages (from docarray) (3.10.15)\n",
      "Requirement already satisfied: pydantic>=1.10.8 in c:\\users\\medis\\appdata\\local\\programs\\python\\python311\\lib\\site-packages (from docarray) (2.10.6)\n",
      "Requirement already satisfied: rich>=13.1.0 in c:\\users\\medis\\appdata\\local\\programs\\python\\python311\\lib\\site-packages (from docarray) (13.9.4)\n",
      "Collecting types-requests>=2.28.11.6 (from docarray)\n",
      "  Downloading types_requests-2.32.0.20241016-py3-none-any.whl.metadata (1.9 kB)\n",
      "Requirement already satisfied: typing-inspect>=0.8.0 in c:\\users\\medis\\appdata\\local\\programs\\python\\python311\\lib\\site-packages (from docarray) (0.9.0)\n",
      "Requirement already satisfied: annotated-types>=0.6.0 in c:\\users\\medis\\appdata\\local\\programs\\python\\python311\\lib\\site-packages (from pydantic>=1.10.8->docarray) (0.7.0)\n",
      "Requirement already satisfied: pydantic-core==2.27.2 in c:\\users\\medis\\appdata\\local\\programs\\python\\python311\\lib\\site-packages (from pydantic>=1.10.8->docarray) (2.27.2)\n",
      "Requirement already satisfied: typing-extensions>=4.12.2 in c:\\users\\medis\\appdata\\local\\programs\\python\\python311\\lib\\site-packages (from pydantic>=1.10.8->docarray) (4.12.2)\n",
      "Requirement already satisfied: markdown-it-py>=2.2.0 in c:\\users\\medis\\appdata\\local\\programs\\python\\python311\\lib\\site-packages (from rich>=13.1.0->docarray) (3.0.0)\n",
      "Requirement already satisfied: pygments<3.0.0,>=2.13.0 in c:\\users\\medis\\appdata\\roaming\\python\\python311\\site-packages (from rich>=13.1.0->docarray) (2.18.0)\n",
      "Requirement already satisfied: urllib3>=2 in c:\\users\\medis\\appdata\\local\\programs\\python\\python311\\lib\\site-packages (from types-requests>=2.28.11.6->docarray) (2.2.1)\n",
      "Requirement already satisfied: mypy-extensions>=0.3.0 in c:\\users\\medis\\appdata\\local\\programs\\python\\python311\\lib\\site-packages (from typing-inspect>=0.8.0->docarray) (1.0.0)\n",
      "Requirement already satisfied: mdurl~=0.1 in c:\\users\\medis\\appdata\\local\\programs\\python\\python311\\lib\\site-packages (from markdown-it-py>=2.2.0->rich>=13.1.0->docarray) (0.1.2)\n",
      "Downloading docarray-0.40.0-py3-none-any.whl (270 kB)\n",
      "Downloading types_requests-2.32.0.20241016-py3-none-any.whl (15 kB)\n",
      "Installing collected packages: types-requests, docarray\n",
      "Successfully installed docarray-0.40.0 types-requests-2.32.0.20241016\n"
     ]
    }
   ],
   "source": [
    "!pip install docarray"
   ]
  },
  {
   "cell_type": "code",
   "execution_count": 23,
   "metadata": {
    "scrolled": true
   },
   "outputs": [
    {
     "name": "stdout",
     "output_type": "stream",
     "text": [
      "Requirement already satisfied: pydantic in c:\\users\\medis\\appdata\\local\\programs\\python\\python311\\lib\\site-packages (1.10.8)\n",
      "Requirement already satisfied: typing-extensions>=4.2.0 in c:\\users\\medis\\appdata\\local\\programs\\python\\python311\\lib\\site-packages (from pydantic) (4.12.2)\n"
     ]
    }
   ],
   "source": [
    "!pip install pydantic"
   ]
  },
  {
   "cell_type": "code",
   "execution_count": null,
   "metadata": {},
   "outputs": [],
   "source": [
    "!pip install -U \"langchain_community\" \"docarray<0.40\" \"pydantic<2.0\"\n"
   ]
  },
  {
   "cell_type": "code",
   "execution_count": null,
   "metadata": {},
   "outputs": [],
   "source": [
    "!pip install pydantic==1.10.8"
   ]
  },
  {
   "cell_type": "code",
   "execution_count": 6,
   "metadata": {},
   "outputs": [],
   "source": [
    "\n",
    "from langchain_community.vectorstores import DocArrayInMemorySearch\n",
    "vectorstores = DocArrayInMemorySearch.from_documents(pages,embedding=embeddings)"
   ]
  },
  {
   "cell_type": "code",
   "execution_count": 12,
   "metadata": {},
   "outputs": [
    {
     "data": {
      "text/plain": [
       "[Document(metadata={'source': 'data.pdf', 'page': 0}, page_content='Case Study: Web Jacking \\n1. Executive Summary \\nThis case study explores how In 2015, the website of Domino\\'s Pizza India was hacked, \\nand sensitive customer information was stolen, causing reputational and financial loss. \\n2. Details about the attack. \\n• Data related to over 18 Cr orders from pizza chain Domino’s India appeared on the dark \\nweb. \\n• 13TB of employee files & customer details, which allegedly belongs to @dominos_india \\nhave been leaked on the Dark Web through a search portal that gives access to sensitive \\ninfo of the users. \\n• The database includes personal details of the customers provided to Domino’s India when \\nthey placed an order through its website or app. These include names, phone numbers, \\nemail IDs, addresses and payment card details \\n• The database was being sold on the dark web for around two to eight bitcoins, with a 50 \\nbitcoin ransom for the company to block the sale of its data. \\n• the data stolen from Domino’s India’s database is from the period between 2015-21 \\n• The company did not respond to questions about the severity of the customer location and \\nphone numbers data being leaked. \\nWeb Jacking: \\nWeb Jacking is a cyber-attack where attackers create a fake version of a legitimate website to \\ntrick users into entering their credentials or sensitive information. \\n \\nMethods used in Web Jacking: \\n• Domain Spoofing – Attackers register similar domain names to mislead users (e.g., \\n\"g00gle.com\" instead of \"google.com\"). \\n• Cross-Site Scripting (XSS) – Injecting malicious scripts into a trusted website. \\n• DNS Hijacking – Manipulating DNS records to redirect traffic to a malicious website. \\n• Phishing & Social Engineering – Fake login pages that steal user credentials. \\nCountermeasures for Website Security: \\nUse HTTPS & SSL Certificates – Encrypt communications to prevent data interception.  \\nEnable DNS Security Extensions (DNSSEC) – Prevent DNS hijacking.  \\nRegularly Monitor & Audit Websites – Detect unauthorized changes early.  \\nImplement Multi-Factor Authentication (MFA) – Reduce the risk of stolen credentials. \\nEducate Users on Phishing Risks – Prevent social engineering attacks.'),\n",
       " Document(metadata={'source': 'data.pdf', 'page': 1}, page_content=\"Case Study: Password Sniffing on a Public Wi-Fi Network \\n1. Incident Overview \\nA group of attackers used a password-sniffing tool on a public Wi-Fi network to intercept \\nusers' login credentials. The attack exploited unencrypted communications, allowing hackers \\nto capture usernames and passwords in real time. Victims included online banking users, \\nsocial media account holders, and employees accessing corporate emails. \\n2. Risks of Using Unsecured Networks \\n• Man-in-the-Middle (MITM) Attacks – Attackers intercept data between users and \\nwebsites. \\n• Session Hijacking – Unauthorized access to user sessions after login. \\n• Packet Sniffing – Tools like Wireshark capture unencrypted data packets. \\n• Data Theft & Credential Leaks – Sensitive information is stolen and misused. \\n \\n3. Countermeasures for Website Security \\n• Use HTTPS Websites – Encrypts data, preventing sniffing. \\n• Enable VPN – Encrypts internet traffic on public networks. \\n• Use Multi-Factor Authentication (MFA) – Adds an extra layer of security. \\n• Avoid Public Wi-Fi for Sensitive Transactions – Use mobile data instead. \\n• Use Strong, Unique Passwords – Prevents attackers from reusing stolen credentials. \\n• Monitor Login Activity – Detect unauthorized access attempts.\")]"
      ]
     },
     "execution_count": 12,
     "metadata": {},
     "output_type": "execute_result"
    }
   ],
   "source": [
    "retriever = vectorstores.as_retriever()\n",
    "retriever.invoke(\"summary of data\")"
   ]
  },
  {
   "cell_type": "code",
   "execution_count": 14,
   "metadata": {},
   "outputs": [
    {
     "name": "stdout",
     "output_type": "stream",
     "text": [
      "Based on the provided context, the summary of the data can be summarized as follows:\n",
      "\n",
      "* In 2015, the website of Domino's Pizza India was hacked, resulting in the leakage of sensitive customer information.\n",
      "* The attackers stole over 18 Cr orders from the pizza chain and leaked 13TB of employee files and customer details on the dark web.\n",
      "* The database included personal details of customers, such as names, phone numbers, email IDs, addresses, and payment card details.\n",
      "* The attackers were demanding a ransom of 50 bitcoins to block the sale of the data.\n",
      "* The data stolen from Domino's India's database was from the period between 2015-21.\n",
      "* The company did not respond to questions about the severity of the customer location and phone numbers data being leaked.\n",
      "* Web Jacking is a cyber-attack where attackers create a fake version of a legitimate website to trick users into entering their credentials or sensitive information.\n",
      "* Methods used in Web Jacking include domain spoofing, cross-site scripting (XSS), DNS hijacking, and phishing/social engineering.\n",
      "* Countermeasures for website security include using HTTPS & SSL certificates, enabling DNS security extensions (DNSSEC), regularly monitoring and auditing websites, implementing multi-factor authentication (MFA), educating users on phishing risks, and using strong, unique passwords.\n"
     ]
    }
   ],
   "source": [
    "from operator import itemgetter\n",
    "\n",
    "chain = (\n",
    "    {\n",
    "        \"context\":itemgetter(\"question\") | retriever,\n",
    "        \"question\":itemgetter(\"question\")\n",
    "    }\n",
    "    |prompt\n",
    "    | model \n",
    "    | parser\n",
    ")\n",
    "response=chain.invoke({\"question\":\"summary of data\"})\n",
    "print(response)"
   ]
  },
  {
   "cell_type": "code",
   "execution_count": null,
   "metadata": {},
   "outputs": [],
   "source": [
    "chain.batch([{\"question\":q} for q in questions])"
   ]
  }
 ],
 "metadata": {
  "kernelspec": {
   "display_name": "Python 3 (ipykernel)",
   "language": "python",
   "name": "python3"
  },
  "language_info": {
   "codemirror_mode": {
    "name": "ipython",
    "version": 3
   },
   "file_extension": ".py",
   "mimetype": "text/x-python",
   "name": "python",
   "nbconvert_exporter": "python",
   "pygments_lexer": "ipython3",
   "version": "3.11.8"
  }
 },
 "nbformat": 4,
 "nbformat_minor": 4
}
